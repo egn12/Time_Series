{
 "cells": [
  {
   "cell_type": "markdown",
   "metadata": {},
   "source": [
    "# Time Series and Forecasting \n",
    "\n",
    "Here, I will translate my time series and forecasting grad school problem sets to python "
   ]
  },
  {
   "cell_type": "markdown",
   "metadata": {},
   "source": [
    "a. Generate $T = 100$ observations from the following time series processes:\n",
    "\n",
    "i) White Noise\n",
    "\n",
    "$y_t = \\epsilon_t$\n",
    "\n",
    "ii) Moving Average\n",
    "\n",
    "$y_t = 1.2 + \\epsilon_t + 0.6\\epsilon_{t-1}$\n",
    "\n",
    "iii) Autoregressive Process AR(1)\n",
    "\n",
    "$y_t = 0.2 + 0.9y_t 1 + \\epsilon_t$\n",
    "\n",
    "iv) Autoregressive Process AR(2)\n",
    "\n",
    "where $\\epsilon_t$ is iid and $N(0, 0.5)$ for all processes"
   ]
  },
  {
   "cell_type": "markdown",
   "metadata": {},
   "source": [
    "b. For the generated samples:\n",
    "*  Plot the series in a graph\n",
    "*  Compute the sample mean, variance and autocovariances up to order j = 10\n",
    "*  Compare the sample moments in ii) with the population mean, variance and au- tocovariances\n",
    "*  Compute and plot both the sample and the population autocorrelation function up to horizon 10 ( j with j = 0;::;10) -for the sample autocorrelation you can use the matlab function ëautocorrí;\n"
   ]
  },
  {
   "cell_type": "code",
   "execution_count": null,
   "metadata": {
    "collapsed": true
   },
   "outputs": [],
   "source": []
  }
 ],
 "metadata": {
  "kernelspec": {
   "display_name": "Python 2",
   "language": "python",
   "name": "python2"
  },
  "language_info": {
   "codemirror_mode": {
    "name": "ipython",
    "version": 2
   },
   "file_extension": ".py",
   "mimetype": "text/x-python",
   "name": "python",
   "nbconvert_exporter": "python",
   "pygments_lexer": "ipython2",
   "version": "2.7.12"
  }
 },
 "nbformat": 4,
 "nbformat_minor": 1
}
